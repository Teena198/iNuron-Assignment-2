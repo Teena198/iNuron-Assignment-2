{
 "cells": [
  {
   "cell_type": "markdown",
   "metadata": {},
   "source": [
    "# Task 1:"
   ]
  },
  {
   "cell_type": "markdown",
   "metadata": {},
   "source": [
    "# 1.1 \n",
    "# Write a Python Program to implement your own myreduce() function which works exactly like\n",
    "# Python's built-in function reduce()"
   ]
  },
  {
   "cell_type": "code",
   "execution_count": null,
   "metadata": {},
   "outputs": [],
   "source": [
    "def my_reduce(num):\n",
    "    count = 0\n",
    "    for i in num:\n",
    "        count = count + i\n",
    "    yield count\n",
    "\n",
    "num = [1,2,3,4,5,6]\n",
    "for i in my_reduce(num):\n",
    "    print(i)"
   ]
  },
  {
   "cell_type": "markdown",
   "metadata": {},
   "source": [
    "# 1.2 \n",
    "# Write a Python program to implement your own myfilter() function which works exactly like\n",
    "# Python's built-in function filter()"
   ]
  },
  {
   "cell_type": "code",
   "execution_count": null,
   "metadata": {},
   "outputs": [],
   "source": [
    "def my_filter(a,b):\n",
    "    vowels = ['a','e','i','o','u','A','E','I','O','U']\n",
    "    for i in range(len(b)):\n",
    "        if (a == 'Vowels' or a == 'vowels'):\n",
    "            if (b[i] in vowels):\n",
    "                yield b[i]\n",
    "        elif (a == 'Consonants' or a == 'consonants'):\n",
    "            if (b[i] not in vowels):\n",
    "                yield b[i]\n",
    "\n",
    "choose = input(\"Enter Vowels or Consonants:\")\n",
    "my_list = ['a','b','c','e','g','l','u','s']\n",
    "for i in my_filter(choose,my_list):\n",
    "    print(i)"
   ]
  },
  {
   "cell_type": "markdown",
   "metadata": {},
   "source": [
    "# 2.\n",
    "# Implement List comprehensions to produce the following lists.\n",
    "# Write List comprehensions to produce the following Lists\n",
    "# ['A', 'C', 'A', 'D', 'G', 'I', ’L’, ‘ D’]\n",
    "# ['x', 'xx', 'xxx', 'xxxx', 'y', 'yy', 'yyy', 'yyyy', 'z', 'zz', 'zzz', 'zzzz']\n",
    "# ['x', 'y', 'z', 'xx', 'yy', 'zz', 'xx', 'yy', 'zz', 'xxxx', 'yyyy', 'zzzz']\n",
    "# [[2], [3], [4], [3], [4], [5], [4], [5], [6]]\n",
    "# [[2, 3, 4, 5], [3, 4, 5, 6], [4, 5, 6, 7], [5, 6, 7, 8]]\n",
    "# [(1, 1), (2, 1), (3, 1), (1, 2), (2, 2), (3, 2), (1, 3), (2, 3), (3, 3)]"
   ]
  },
  {
   "cell_type": "code",
   "execution_count": null,
   "metadata": {},
   "outputs": [],
   "source": [
    "a = [i for i in 'ACADGILD']\n",
    "b = [i*j for i in 'xyz' for j in range(1,5)]\n",
    "c = [i*j for i in range(1,5) for j in 'xyz']\n",
    "d = [[i+j]for i in range(2,5) for j in range(3)]\n",
    "e = [[i+j for i in range(2,6)] for j in range(4)]\n",
    "f = [(j,i) for i in range(1,4) for j in range(1,4)]\n",
    "\n"
   ]
  },
  {
   "cell_type": "markdown",
   "metadata": {},
   "source": [
    "# 3.\n",
    "# Implement a function longestWord() that takes a list of words and returns the longest one."
   ]
  },
  {
   "cell_type": "code",
   "execution_count": null,
   "metadata": {},
   "outputs": [],
   "source": [
    "def long(list):\n",
    "    count = 0\n",
    "    for i in range(len(list)):\n",
    "        if count < len(list[i]):\n",
    "            count = len(list[i])\n",
    "            pos = i\n",
    "    return (\"The longest string in the list is '%s' of length %d\" %(list[pos],count))\n",
    "    \n",
    "list = ['asad','dsafaf','riufiw','soubf','eywfyvwvhje','ifcbjwhkw','wiyeiwgeiyfg']\n",
    "long(list)"
   ]
  },
  {
   "cell_type": "markdown",
   "metadata": {},
   "source": [
    "# Task 2:"
   ]
  },
  {
   "cell_type": "markdown",
   "metadata": {},
   "source": [
    "# 1.1\n",
    "# Write a Python Program(with class concepts) to find the area of the triangle using the below formula.\n",
    "# area = (s*(s-a)*(s-b)*(s-c)) ** 0.5\n",
    "# Function to take the length of the sides of triangle from user should be defined in the parent\n",
    "# class and function to calculate the area should be defined in subclass."
   ]
  },
  {
   "cell_type": "code",
   "execution_count": null,
   "metadata": {},
   "outputs": [],
   "source": [
    "class sides:\n",
    "    def __init__(self,a,b,c):\n",
    "        self.a = a\n",
    "        self.b = b\n",
    "        self.c = c\n",
    "        \n",
    "class triangle(sides):\n",
    "    def __init__(self,a,b,c):\n",
    "        super(triangle,self).__init__(a,b,c)\n",
    "        \n",
    "    def cal(self):\n",
    "        s = (a + b + c)/2\n",
    "        return ((s*(s - a)*(s - b)*(s - c)) ** 0.5)\n",
    "        \n",
    "\n",
    "a = int(input(\"Enter a:\"))\n",
    "b = int(input(\"Enter b:\"))\n",
    "c = int(input(\"Enter c:\"))\n",
    "ans = triangle(a,b,c)\n",
    "print(\"Area of triangle is %0.2f\" %ans.cal())"
   ]
  },
  {
   "cell_type": "markdown",
   "metadata": {},
   "source": [
    "# 1.2\n",
    "# Write a function filter_long_words() that takes a list of words and an integer n and returns the list of words that are longer than n."
   ]
  },
  {
   "cell_type": "code",
   "execution_count": null,
   "metadata": {},
   "outputs": [],
   "source": [
    "def filter_long_words(a):\n",
    "    long = []\n",
    "    n = int(input(\"Enter number:\"))\n",
    "    for i in range(len(a)):\n",
    "        if n < len(a[i]):\n",
    "            long.append(a[i])\n",
    "    return long\n",
    "\n",
    "my_list = ['sakdb','aefehbf','fkbwesfiug','weiygryi','weugfbj','efb','ewufv','wyefgi','fkbf']\n",
    "filter_long_words(my_list)"
   ]
  },
  {
   "cell_type": "markdown",
   "metadata": {},
   "source": [
    "# 2.1\n",
    "# Write a Python program using function concept that maps list of words into a list of integers representing the lengths of the corresponding words .\n",
    "# Hint: If a list [ ab,cde,erty] is passed on to the python function output should come as [2,3,4]. Here 2,3 and 4 are the lengths of the words in the list."
   ]
  },
  {
   "cell_type": "code",
   "execution_count": null,
   "metadata": {},
   "outputs": [],
   "source": [
    "def str_to_int(a):\n",
    "    int_list = []\n",
    "    for i in range(len(a)):\n",
    "        int_list.append(len(a[i]))\n",
    "    return int_list\n",
    "\n",
    "\n",
    "my_list = ['sakdb','aefehbf','fkbwesfiug','weiygryi','weugfbj','efb','ewufv','wyefgi','fkbf']\n",
    "str_to_int(my_list)"
   ]
  },
  {
   "cell_type": "markdown",
   "metadata": {},
   "source": [
    "# 2.2\n",
    "# Write a Python function which takes a character (i.e. a string of length 1) and returns True if it is a vowel, False otherwise."
   ]
  },
  {
   "cell_type": "code",
   "execution_count": null,
   "metadata": {},
   "outputs": [],
   "source": [
    "def alphabate(word):\n",
    "    vowels = ['A','E','I','O','U','a','e','i','o','u']\n",
    "    if (word in vowels):\n",
    "        return True\n",
    "    else:\n",
    "        return False\n",
    "    \n",
    "a = input(\"Enter any alphabate:\")\n",
    "if alphabate(a) == True:\n",
    "    print(\"It is a vowel\")\n",
    "else:\n",
    "    print(\"It is consonant\")"
   ]
  }
 ],
 "metadata": {
  "kernelspec": {
   "display_name": "Python 3",
   "language": "python",
   "name": "python3"
  },
  "language_info": {
   "codemirror_mode": {
    "name": "ipython",
    "version": 3
   },
   "file_extension": ".py",
   "mimetype": "text/x-python",
   "name": "python",
   "nbconvert_exporter": "python",
   "pygments_lexer": "ipython3",
   "version": "3.7.6"
  }
 },
 "nbformat": 4,
 "nbformat_minor": 4
}
